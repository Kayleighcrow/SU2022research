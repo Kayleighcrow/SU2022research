{
 "cells": [
  {
   "cell_type": "markdown",
   "id": "8b8f3c3b",
   "metadata": {},
   "source": [
    "## Import Statements"
   ]
  },
  {
   "cell_type": "code",
   "execution_count": 1,
   "id": "10e97957",
   "metadata": {},
   "outputs": [],
   "source": [
    "#!pip install geehydro\n",
    "import ee\n",
    "import geemap\n",
    "import folium\n",
    "import geehydro"
   ]
  },
  {
   "cell_type": "code",
   "execution_count": 2,
   "id": "4ffc9f63",
   "metadata": {},
   "outputs": [],
   "source": [
    "ee.Initialize()"
   ]
  },
  {
   "cell_type": "markdown",
   "id": "94278221",
   "metadata": {},
   "source": [
    "## Initialize Map"
   ]
  },
  {
   "cell_type": "code",
   "execution_count": 3,
   "id": "8cf6fab4",
   "metadata": {
    "scrolled": true
   },
   "outputs": [],
   "source": [
    "Map = geemap.Map(center=(40, -100), zoom=4) #use \"Map\" to be consistent with Javascript API\n"
   ]
  },
  {
   "cell_type": "code",
   "execution_count": 4,
   "id": "32b319b6",
   "metadata": {},
   "outputs": [],
   "source": [
    "landsatData = ee.ImageCollection('LANDSAT/LC08/C02/T1_L2').filterDate('2021-05-01', '2021-06-01'); #Landsat 8 data from May 2021\n",
    "landcover = ee.Image(\"ESA/GLOBCOVER_L4_200901_200912_V2_3\").select('landcover') #Lan cover data \n",
    "states = ee.FeatureCollection(\"TIGER/2018/States\") #add states "
   ]
  },
  {
   "cell_type": "code",
   "execution_count": 5,
   "id": "7db3ac7e",
   "metadata": {},
   "outputs": [],
   "source": [
    "landsat_vis = {\n",
    "    'min': 6000,\n",
    "    'max': 13000,\n",
    "    'bands': ['SR_B4', 'SR_B3', 'SR_B2']\n",
    "}"
   ]
  },
  {
   "cell_type": "code",
   "execution_count": 6,
   "id": "f4645699",
   "metadata": {},
   "outputs": [],
   "source": [
    "Map.addLayer(landcover, {}, 'Land cover')\n",
    "Map.addLayer(landsatData, landsat_vis, 'Landsat 8')\n",
    "Map.addLayer(states, {}, \"US States\")"
   ]
  },
  {
   "cell_type": "markdown",
   "id": "65a0264e",
   "metadata": {},
   "source": [
    "## Get Data, Plot Desired Location"
   ]
  },
  {
   "cell_type": "code",
   "execution_count": 7,
   "id": "ebdce283",
   "metadata": {},
   "outputs": [],
   "source": [
    "#St Louis Coordinates\n",
    "stllon = -90.1994\n",
    "stllat = 38.627\n",
    "\n",
    "#Pennington coordinates\n",
    "plon = -74.7888\n",
    "plat = 40.3249\n",
    "\n",
    "#Set point for desired coordinates\n",
    "point = ee.Geometry.Point(plon, plat)\n",
    "\n",
    "#iniialize image for area of analysis\n",
    "image = ee.Image(landsatData.filterBounds(point).sort('CLOUD_COVER').first());\n",
    "\n"
   ]
  },
  {
   "cell_type": "markdown",
   "id": "49019122",
   "metadata": {},
   "source": [
    "## Compute and Plot NDVI"
   ]
  },
  {
   "cell_type": "code",
   "execution_count": 8,
   "id": "193fd37f",
   "metadata": {},
   "outputs": [],
   "source": [
    "#define a method that computes NDVI using the build in normalizedDifference() method utilizing bands 4 and 5 for Landsat 8\n",
    "def getNDVI(img):\n",
    "    return img.normalizedDifference(['SR_B5','SR_B4']) \n",
    "\n",
    "#compute NDVI!\n",
    "ndvi = getNDVI(image)\n",
    "\n",
    "#define a color palette\n",
    "ndviParams = {'palette': [\"#d73027\", \"#f46d43\",\"#fdae61\",\"fee08b\",\"d9efb8\",\"a6d96a\",\"66bd63\",\"1a9850\"]} \n",
    "Map.addLayer(ndvi, ndviParams, 'NDVIMAP')\n",
    "Map.centerObject(ndvi, 7)"
   ]
  },
  {
   "cell_type": "code",
   "execution_count": 9,
   "id": "738d582f",
   "metadata": {},
   "outputs": [
    {
     "data": {
      "application/vnd.jupyter.widget-view+json": {
       "model_id": "0ccc8d8df3024896987d8e094adbb7d4",
       "version_major": 2,
       "version_minor": 0
      },
      "text/plain": [
       "Map(center=[40.331277783812, -74.88151495388823], controls=(WidgetControl(options=['position', 'transparent_bg…"
      ]
     },
     "metadata": {},
     "output_type": "display_data"
    }
   ],
   "source": [
    "Map.setControlVisibility(layerControl= True, fullscreenControl = True, latLngPopup = True)\n",
    "Map"
   ]
  },
  {
   "cell_type": "markdown",
   "id": "babe9d6e",
   "metadata": {},
   "source": [
    "## sources\n",
    "\n",
    "1. https://www.bing.com/videos/search?q=ndvi+calculation+google+earth+engine&&view=detail&mid=4684F2F5965E9701F7354684F2F5965E9701F735&&FORM=VRDGAR&ru=%2Fvideos%2Fsearch%3Fq%3Dndvi%2Bcalculation%2Bgoogle%2Bearth%2Bengine%26FORM%3DHDRSC4\n",
    "\n",
    "2. https://geemap.org/get-started/#plotting-backends"
   ]
  }
 ],
 "metadata": {
  "kernelspec": {
   "display_name": "Python 3 (ipykernel)",
   "language": "python",
   "name": "python3"
  },
  "language_info": {
   "codemirror_mode": {
    "name": "ipython",
    "version": 3
   },
   "file_extension": ".py",
   "mimetype": "text/x-python",
   "name": "python",
   "nbconvert_exporter": "python",
   "pygments_lexer": "ipython3",
   "version": "3.9.12"
  }
 },
 "nbformat": 4,
 "nbformat_minor": 5
}
